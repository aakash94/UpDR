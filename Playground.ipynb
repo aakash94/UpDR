{
 "cells": [
  {
   "cell_type": "code",
   "execution_count": 6,
   "metadata": {},
   "outputs": [],
   "source": [
    "import matplotlib.pyplot as plt\n",
    "import numpy as np\n",
    "import torch\n",
    "import torch.nn as nn\n",
    "import torch.nn.functional as F\n",
    "import torch.optim as optim\n",
    "import math\n",
    "import os\n",
    "from DataLoader import CustomDataLoader\n",
    "import torchvision.transforms as transforms"
   ]
  },
  {
   "cell_type": "code",
   "execution_count": 7,
   "metadata": {},
   "outputs": [],
   "source": [
    "data_loader = CustomDataLoader(\"res\")\n",
    "h,s = data_loader.__getitem__(120)\n"
   ]
  },
  {
   "cell_type": "code",
   "execution_count": 12,
   "metadata": {},
   "outputs": [
    {
     "name": "stdout",
     "output_type": "stream",
     "text": [
      "tensor([[[0.5373, 0.5373, 0.5373,  ..., 0.5373, 0.5373, 0.5333],\n",
      "         [0.5373, 0.5373, 0.5373,  ..., 0.5373, 0.5373, 0.5373],\n",
      "         [0.5373, 0.5373, 0.5373,  ..., 0.5333, 0.5373, 0.5373],\n",
      "         ...,\n",
      "         [0.5373, 0.5373, 0.5412,  ..., 0.5373, 0.5333, 0.5373],\n",
      "         [0.5412, 0.5412, 0.5412,  ..., 0.5373, 0.5373, 0.5373],\n",
      "         [0.5373, 0.5373, 0.5412,  ..., 0.5373, 0.5373, 0.5373]],\n",
      "\n",
      "        [[0.5451, 0.5451, 0.5451,  ..., 0.5451, 0.5451, 0.5412],\n",
      "         [0.5451, 0.5451, 0.5451,  ..., 0.5451, 0.5451, 0.5451],\n",
      "         [0.5451, 0.5451, 0.5451,  ..., 0.5412, 0.5451, 0.5451],\n",
      "         ...,\n",
      "         [0.5451, 0.5451, 0.5412,  ..., 0.5373, 0.5333, 0.5373],\n",
      "         [0.5412, 0.5412, 0.5412,  ..., 0.5373, 0.5373, 0.5373],\n",
      "         [0.5451, 0.5451, 0.5412,  ..., 0.5373, 0.5373, 0.5373]],\n",
      "\n",
      "        [[0.5608, 0.5608, 0.5608,  ..., 0.5608, 0.5608, 0.5529],\n",
      "         [0.5608, 0.5608, 0.5608,  ..., 0.5608, 0.5608, 0.5608],\n",
      "         [0.5608, 0.5608, 0.5608,  ..., 0.5529, 0.5608, 0.5608],\n",
      "         ...,\n",
      "         [0.5412, 0.5412, 0.5412,  ..., 0.5451, 0.5412, 0.5451],\n",
      "         [0.5490, 0.5490, 0.5412,  ..., 0.5451, 0.5451, 0.5451],\n",
      "         [0.5490, 0.5490, 0.5490,  ..., 0.5451, 0.5529, 0.5529]]])\n"
     ]
    }
   ],
   "source": [
    "print(h)\n",
    "trans2P = transforms.ToPILImage()\n",
    "trans2T = transforms.ToTensor()"
   ]
  }
 ],
 "metadata": {
  "kernelspec": {
   "display_name": "Python 3",
   "language": "python",
   "name": "python3"
  },
  "language_info": {
   "codemirror_mode": {
    "name": "ipython",
    "version": 3
   },
   "file_extension": ".py",
   "mimetype": "text/x-python",
   "name": "python",
   "nbconvert_exporter": "python",
   "pygments_lexer": "ipython3",
   "version": "3.7.1"
  }
 },
 "nbformat": 4,
 "nbformat_minor": 2
}
