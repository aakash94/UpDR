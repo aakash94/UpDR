{
 "cells": [
  {
   "cell_type": "code",
   "execution_count": 1,
   "metadata": {},
   "outputs": [],
   "source": [
    "import numpy as np\n",
    "import torch\n",
    "import torch.nn as nn\n",
    "import torchvision.transforms as transforms\n",
    "from PIL import Image\n",
    "\n",
    "from DataLoader import CustomDataLoader\n",
    "from UpNet import UpNet"
   ]
  },
  {
   "cell_type": "code",
   "execution_count": 2,
   "metadata": {},
   "outputs": [],
   "source": [
    "model = UpNet()"
   ]
  },
  {
   "cell_type": "code",
   "execution_count": 3,
   "metadata": {},
   "outputs": [],
   "source": [
    "# https://pytorch.org/tutorials/beginner/saving_loading_models.html\n",
    "path = \"\"\n",
    "path_state_dict = path+\"checkpoints/state_dict.pth\"\n",
    "train_on_gpu = torch.cuda.is_available()\n"
   ]
  },
  {
   "cell_type": "code",
   "execution_count": 4,
   "metadata": {},
   "outputs": [],
   "source": [
    "transform2Tensor = transforms.ToTensor()\n",
    "transform2PIL = transforms.ToPILImage()\n",
    "model.load_state_dict(torch.load(path_state_dict))\n",
    "model.eval()\n",
    "\n",
    "if train_on_gpu:\n",
    "    model = model.cuda()"
   ]
  },
  {
   "cell_type": "code",
   "execution_count": 8,
   "metadata": {},
   "outputs": [],
   "source": [
    "image_path = \"res/this.jpg\"\n",
    "\n",
    "with torch.no_grad():\n",
    "    image = Image.open(image_path)\n",
    "    image_tensor = transform2Tensor(image)\n",
    "    image_tensor = image_tensor.unsqueeze(0)\n",
    "\n",
    "    if train_on_gpu:\n",
    "        image_tensor = image_tensor.cuda()\n",
    "\n",
    "    output = model(image_tensor)\n",
    "    output = output.squeeze().cpu()\n",
    "\n",
    "\n",
    "    image_trans = transform2PIL(output)\n",
    "    image_trans.show()"
   ]
  }
 ],
 "metadata": {
  "kernelspec": {
   "display_name": "Python 3",
   "language": "python",
   "name": "python3"
  },
  "language_info": {
   "codemirror_mode": {
    "name": "ipython",
    "version": 3
   },
   "file_extension": ".py",
   "mimetype": "text/x-python",
   "name": "python",
   "nbconvert_exporter": "python",
   "pygments_lexer": "ipython3",
   "version": "3.7.1"
  }
 },
 "nbformat": 4,
 "nbformat_minor": 2
}
